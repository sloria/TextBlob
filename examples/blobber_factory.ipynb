{
 "cells": [
  {
   "cell_type": "markdown",
   "id": "2900215d-5908-4312-857f-48ec2f0a6159",
   "metadata": {},
   "source": [
    "## Blobber\n",
    "- Textblob factory that all share the same tagger, tokenizer, parser, classifier, and np_extractor."
   ]
  },
  {
   "cell_type": "code",
   "execution_count": 1,
   "id": "4389814c-934f-4c78-b71b-9d5967884ce6",
   "metadata": {},
   "outputs": [],
   "source": [
    "from textblob import Blobber\n",
    "from textblob.taggers import NLTKTagger\n",
    "from textblob.tokenizers import SentenceTokenizer\n",
    "from textblob.parsers import PatternParser\n",
    "from textblob.np_extractors import ConllExtractor\n",
    "from textblob.sentiments import NaiveBayesAnalyzer"
   ]
  },
  {
   "cell_type": "code",
   "execution_count": 2,
   "id": "dc1a3a7f-5426-4713-89fc-70ccd5c832eb",
   "metadata": {},
   "outputs": [],
   "source": [
    "tb = Blobber(pos_tagger=NLTKTagger(), analyzer=NaiveBayesAnalyzer())"
   ]
  },
  {
   "cell_type": "code",
   "execution_count": 3,
   "id": "284bae5d-d423-459c-8c73-3ac01e2f9d33",
   "metadata": {},
   "outputs": [],
   "source": [
    "zen_1 = tb('Beautiful is better than ugly!.\\\n",
    "            Explicit, is better than implicit.\\\n",
    "            Simple is better than complex^^.')\n",
    "\n",
    "zen_2 = tb('Although, never is often better than right now.\\\n",
    "            If the implementation is hard! to explain, it\\'s a bad idea.\\\n",
    "            If the implementation is easy! to explain, it may\\'be a good idea.')"
   ]
  },
  {
   "cell_type": "code",
   "execution_count": 4,
   "id": "5c6f9ea3-8960-47ab-84dd-a32cbda84dc7",
   "metadata": {},
   "outputs": [
    {
     "name": "stdout",
     "output_type": "stream",
     "text": [
      "pos tags\n",
      "zen_1:  [('Beautiful', 'NNP'), ('is', 'VBZ'), ('better', 'JJR'), ('than', 'IN'), ('ugly', 'RB'), ('Explicit', 'NNP'), ('is', 'VBZ'), ('better', 'JJR'), ('than', 'IN'), ('implicit', 'NN'), ('Simple', 'NN'), ('is', 'VBZ'), ('better', 'JJR'), ('than', 'IN'), ('complex^^', 'NN')]\n",
      "zen_2:  [('Although', 'IN'), ('never', 'RB'), ('is', 'VBZ'), ('often', 'RB'), ('better', 'JJR'), ('than', 'IN'), ('right', 'RB'), ('now', 'RB'), ('If', 'IN'), ('the', 'DT'), ('implementation', 'NN'), ('is', 'VBZ'), ('hard', 'JJ'), ('to', 'TO'), ('explain', 'VB'), ('it', 'PRP'), (\"'s\", 'VBZ'), ('a', 'DT'), ('bad', 'JJ'), ('idea', 'NN'), ('If', 'IN'), ('the', 'DT'), ('implementation', 'NN'), ('is', 'VBZ'), ('easy', 'JJ'), ('to', 'TO'), ('explain', 'VB'), ('it', 'PRP'), (\"may'be\", 'VBZ'), ('a', 'DT'), ('good', 'JJ'), ('idea', 'NN')]\n"
     ]
    }
   ],
   "source": [
    "# pos_tags\n",
    "print('pos tags')\n",
    "print('zen_1: ',zen_1.pos_tags)\n",
    "print('zen_2: ',zen_2.pos_tags)"
   ]
  },
  {
   "cell_type": "code",
   "execution_count": 5,
   "id": "db030dc7-2109-44be-b959-d293a95c0c71",
   "metadata": {
    "scrolled": true
   },
   "outputs": [
    {
     "name": "stdout",
     "output_type": "stream",
     "text": [
      "Beautiful is better than ugly!. -- Sentiment(classification='neg', p_pos=0.4740131622439792, p_neg=0.5259868377560211)\n",
      "Explicit, is better than implicit. -- Sentiment(classification='pos', p_pos=0.5362362732905498, p_neg=0.46376372670944993)\n",
      "Simple is better than complex^^. -- Sentiment(classification='pos', p_pos=0.763510047426406, p_neg=0.23648995257359412)\n"
     ]
    }
   ],
   "source": [
    "# sentiment\n",
    "for s in zen_1.sentences:\n",
    "    print(f\"{s} -- {s.sentiment}\")"
   ]
  },
  {
   "cell_type": "code",
   "execution_count": 6,
   "id": "9581e1c0-b2e3-4749-a696-2025cb044bfa",
   "metadata": {},
   "outputs": [
    {
     "data": {
      "text/plain": [
       "True"
      ]
     },
     "execution_count": 6,
     "metadata": {},
     "output_type": "execute_result"
    }
   ],
   "source": [
    "# compare\n",
    "zen_1.pos_tagger is zen_2.pos_tagger"
   ]
  },
  {
   "cell_type": "code",
   "execution_count": 7,
   "id": "275d7feb-4628-4562-b590-991c0d8e5cb2",
   "metadata": {},
   "outputs": [],
   "source": [
    "blob = Blobber(parser=PatternParser(), np_extractor=ConllExtractor(), tokenizer=SentenceTokenizer())"
   ]
  },
  {
   "cell_type": "code",
   "execution_count": 8,
   "id": "14205892-c1af-4869-b6e1-cbdb40418a17",
   "metadata": {},
   "outputs": [],
   "source": [
    "zen = blob('Beautiful is better than ugly!.\\\n",
    "            Explicit, is better than implicit.\\\n",
    "            Simple is better than complex^^.')"
   ]
  },
  {
   "cell_type": "code",
   "execution_count": 9,
   "id": "68ad8a67-9543-46c9-81e3-219d521d94b8",
   "metadata": {},
   "outputs": [
    {
     "name": "stdout",
     "output_type": "stream",
     "text": [
      "Parsed:  ['Beautiful/JJ/B-ADJP/O', 'is/VBZ/B-VP/O', 'better/JJR/B-ADJP/O', 'than/IN/B-PP/O', 'ugly/JJ/B-ADJP/O', '!/./O/O', '././O/O\\nExplicit/JJ/B-ADJP/O', ',/,/O/O', 'is/VBZ/B-VP/O', 'better/JJR/B-ADJP/O', 'than/IN/B-PP/O', 'implicit/JJ/B-ADJP/O', '././O/O\\nSimple/JJ/B-ADJP/O', 'is/VBZ/B-VP/O', 'better/JJR/B-ADJP/O', 'than/IN/B-PP/B-PNP', 'complex/JJ/B-NP/I-PNP', '^/NN/I-NP/I-PNP', '^/NN/I-NP/I-PNP', '././O/O']\n"
     ]
    }
   ],
   "source": [
    "print('Parsed: ', zen.parse().split(' '))"
   ]
  },
  {
   "cell_type": "code",
   "execution_count": 10,
   "id": "b34f4931-8cac-48b7-9d52-306bfb83b693",
   "metadata": {},
   "outputs": [
    {
     "name": "stdout",
     "output_type": "stream",
     "text": [
      "Extracted phrases:  ['complex ^ ^']\n"
     ]
    }
   ],
   "source": [
    "print('Extracted phrases: ', zen.noun_phrases)"
   ]
  },
  {
   "cell_type": "code",
   "execution_count": 11,
   "id": "6b0748c4-b249-417a-98a8-7c7cdcd5f902",
   "metadata": {},
   "outputs": [
    {
     "name": "stdout",
     "output_type": "stream",
     "text": [
      "Extracted count:  defaultdict(<class 'int'>, {'complex ^ ^': 1})\n"
     ]
    }
   ],
   "source": [
    "print('Extracted count: ', zen.np_counts)"
   ]
  },
  {
   "cell_type": "code",
   "execution_count": 12,
   "id": "10943d44-e623-4336-962c-c36c6e887a87",
   "metadata": {},
   "outputs": [
    {
     "name": "stdout",
     "output_type": "stream",
     "text": [
      "Tokens:  ['Beautiful is better than ugly!.', 'Explicit, is better than implicit.', 'Simple is better than complex^^.']\n"
     ]
    }
   ],
   "source": [
    "print('Tokens: ', zen.tokens)"
   ]
  },
  {
   "cell_type": "code",
   "execution_count": null,
   "id": "0c409dc0-2dd3-4c47-a816-9a74b5d73936",
   "metadata": {},
   "outputs": [],
   "source": []
  }
 ],
 "metadata": {
  "kernelspec": {
   "display_name": "Python 3 (ipykernel)",
   "language": "python",
   "name": "python3"
  },
  "language_info": {
   "codemirror_mode": {
    "name": "ipython",
    "version": 3
   },
   "file_extension": ".py",
   "mimetype": "text/x-python",
   "name": "python",
   "nbconvert_exporter": "python",
   "pygments_lexer": "ipython3",
   "version": "3.11.7"
  }
 },
 "nbformat": 4,
 "nbformat_minor": 5
}
