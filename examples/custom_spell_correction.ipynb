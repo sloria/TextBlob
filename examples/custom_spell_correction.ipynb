{
 "cells": [
  {
   "cell_type": "markdown",
   "id": "202fa345-01d9-46e2-86a3-91562839c41d",
   "metadata": {},
   "source": [
    "## Spell Correction on Custom Data\n",
    "- Train textblob spell correction on custom data"
   ]
  },
  {
   "cell_type": "code",
   "execution_count": 2,
   "id": "ca2a36d2-c03d-4a6e-a225-9d08e323ee08",
   "metadata": {},
   "outputs": [],
   "source": [
    "# dataset\n",
    "# corpus: https://nuochenpku.github.io/HPD.github.io/"
   ]
  },
  {
   "cell_type": "code",
   "execution_count": 3,
   "id": "bbaf5177-f249-45ee-8ff4-689dfe59390a",
   "metadata": {},
   "outputs": [],
   "source": [
    "import re\n",
    "from textblob import TextBlob\n",
    "from textblob.en import Spelling "
   ]
  },
  {
   "cell_type": "code",
   "execution_count": 4,
   "id": "c2ae24df-bbc5-4995-872e-c758678f40bd",
   "metadata": {},
   "outputs": [],
   "source": [
    "def readfile(file:str):\n",
    "    if file:\n",
    "        with open(file, 'r') as fread:\n",
    "            text = fread.read().lower()\n",
    "    else:\n",
    "        raise FileNotFoundError(f'{file} not found!')\n",
    "    return text"
   ]
  },
  {
   "cell_type": "code",
   "execution_count": 5,
   "id": "8e2ef967-fe9c-466a-b84f-106d6cfe7b85",
   "metadata": {},
   "outputs": [],
   "source": [
    "def get_sentences(text):\n",
    "    words = re.findall(\"[a-z]+\", text) # get all alphabets words  \n",
    "    sentences = \" \".join(words) \n",
    "    return sentences"
   ]
  },
  {
   "cell_type": "code",
   "execution_count": 6,
   "id": "bcbe4239-e992-40e3-9e33-be7925d00a97",
   "metadata": {},
   "outputs": [],
   "source": [
    "text = readfile('harry_potter.txt')\n",
    "sen = get_sentences(text)\n",
    "\n",
    "data = \"train.txt\"                              \n",
    "spelling = Spelling(data)   \n",
    "spelling.train(sen, data)  "
   ]
  },
  {
   "cell_type": "code",
   "execution_count": 15,
   "id": "37bb5588-f366-4947-9f6c-cdbf88505be8",
   "metadata": {},
   "outputs": [
    {
     "name": "stdout",
     "output_type": "stream",
     "text": [
      "a 64\n",
      "abnormal 1\n",
      "about 9\n",
      "absolutely 1\n",
      "accepted 1\n",
      "afraid 2\n",
      "\n"
     ]
    }
   ],
   "source": [
    "# train.txt (generated)\n",
    "sample = readfile('train.txt')\n",
    "print(''.join([s for s in sample][:57]))"
   ]
  },
  {
   "cell_type": "code",
   "execution_count": 12,
   "id": "2bd46fd9-83d0-4641-a1a7-1d0cf692df04",
   "metadata": {},
   "outputs": [],
   "source": [
    "def predict(text:str):\n",
    "    words = text.split()\n",
    "    corrected = \" \"\n",
    "    sug = []\n",
    "    for i in words :\n",
    "        corrected = corrected +\" \"+ spelling.suggest(i)[0][0] \n",
    "        sug.append([i, spelling.suggest(i)])\n",
    "    return corrected, sug"
   ]
  },
  {
   "cell_type": "code",
   "execution_count": 14,
   "id": "996575aa-e1e3-4a69-8b08-c9c917374064",
   "metadata": {},
   "outputs": [
    {
     "name": "stdout",
     "output_type": "stream",
     "text": [
      "hariy, -- [('harry', 1.0)]\n",
      "rin -- [('ron', 0.5692307692307692), ('in', 0.35384615384615387), ('ain', 0.046153846153846156), ('run', 0.03076923076923077)]\n",
      "and -- [('and', 1.0)]\n",
      "hamione -- [('hermione', 1.0)]\n",
      "wirld -- [('world', 1.0)]\n",
      "be -- [('be', 1.0)]\n",
      "a -- [('a', 1.0)]\n",
      "greatest -- [('greatest', 0.0)]\n",
      "wizerd -- [('wizard', 1.0)]\n",
      "in -- [('in', 1.0)]\n",
      "our -- [('our', 1.0)]\n",
      "word. -- [('words', 1.0)]\n",
      "corr='  harry ron and hermione world be a greatest wizard in our words'\n"
     ]
    }
   ],
   "source": [
    "query = 'hariy, rin and hamione wirld be a greatest wizerd in our word.'\n",
    "corr, suggestion = predict(query)\n",
    "\n",
    "for (s,p) in suggestion:\n",
    "        print(f\"{s} -- {p}\")\n",
    "print(f\"{corr=}\")"
   ]
  },
  {
   "cell_type": "code",
   "execution_count": null,
   "id": "a8625bf9-11a5-49a6-9e80-6ac5ae702bc0",
   "metadata": {},
   "outputs": [],
   "source": []
  }
 ],
 "metadata": {
  "kernelspec": {
   "display_name": "Python 3 (ipykernel)",
   "language": "python",
   "name": "python3"
  },
  "language_info": {
   "codemirror_mode": {
    "name": "ipython",
    "version": 3
   },
   "file_extension": ".py",
   "mimetype": "text/x-python",
   "name": "python",
   "nbconvert_exporter": "python",
   "pygments_lexer": "ipython3",
   "version": "3.11.7"
  }
 },
 "nbformat": 4,
 "nbformat_minor": 5
}
