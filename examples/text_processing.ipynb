{
 "cells": [
  {
   "cell_type": "markdown",
   "id": "ab634971-60b5-490d-92d0-50af162b8ec4",
   "metadata": {},
   "source": [
    "## Quick start tutorial\n",
    "- Common text processing operations with textblob"
   ]
  },
  {
   "cell_type": "code",
   "execution_count": 1,
   "id": "9453c50a-5d0e-4d62-8ad6-602ed7ad6270",
   "metadata": {},
   "outputs": [],
   "source": [
    "# import \n",
    "from textblob import TextBlob"
   ]
  },
  {
   "cell_type": "code",
   "execution_count": 2,
   "id": "7e090620-9a86-4c65-a534-7b7bfc364c84",
   "metadata": {},
   "outputs": [
    {
     "name": "stdout",
     "output_type": "stream",
     "text": [
      "['__add__', '__class__', '__contains__', '__delattr__', '__dict__', '__dir__', '__doc__', '__eq__', '__format__', '__ge__', '__getattribute__', '__getitem__', '__getstate__', '__gt__', '__hash__', '__init__', '__init_subclass__', '__iter__', '__le__', '__len__', '__lt__', '__module__', '__ne__', '__new__', '__reduce__', '__reduce_ex__', '__repr__', '__setattr__', '__sizeof__', '__str__', '__subclasshook__', '__weakref__', '_cmpkey', '_compare', '_create_sentence_objects', '_strkey', 'analyzer', 'classify', 'correct', 'ends_with', 'endswith', 'find', 'format', 'index', 'join', 'json', 'lower', 'ngrams', 'noun_phrases', 'np_counts', 'np_extractor', 'parse', 'parser', 'polarity', 'pos_tagger', 'pos_tags', 'raw_sentences', 'replace', 'rfind', 'rindex', 'sentences', 'sentiment', 'sentiment_assessments', 'serialized', 'split', 'starts_with', 'startswith', 'strip', 'subjectivity', 'tags', 'title', 'to_json', 'tokenize', 'tokenizer', 'tokens', 'upper', 'word_counts', 'words']\n"
     ]
    }
   ],
   "source": [
    "# list out textblob modules\n",
    "print(dir(TextBlob))"
   ]
  },
  {
   "cell_type": "code",
   "execution_count": 3,
   "id": "c6d5a13c-32da-4185-82d0-371a60607cce",
   "metadata": {},
   "outputs": [
    {
     "data": {
      "text/plain": [
       "TextBlob(\"I like to read about new facts, innovations and technology.\")"
      ]
     },
     "execution_count": 3,
     "metadata": {},
     "output_type": "execute_result"
    }
   ],
   "source": [
    "# create textblob\n",
    "text = 'I like to read about new facts, innovations and technology.'\n",
    "tb = TextBlob(text)\n",
    "tb"
   ]
  },
  {
   "cell_type": "code",
   "execution_count": 4,
   "id": "2ea5b15d-3b3b-441f-929b-35c2f2f50312",
   "metadata": {},
   "outputs": [
    {
     "data": {
      "text/plain": [
       "[('I', 'PRP'),\n",
       " ('like', 'VBP'),\n",
       " ('to', 'TO'),\n",
       " ('read', 'VB'),\n",
       " ('about', 'IN'),\n",
       " ('new', 'JJ'),\n",
       " ('facts', 'NNS'),\n",
       " ('innovations', 'NNS'),\n",
       " ('and', 'CC'),\n",
       " ('technology', 'NN')]"
      ]
     },
     "execution_count": 4,
     "metadata": {},
     "output_type": "execute_result"
    }
   ],
   "source": [
    "tb.tags"
   ]
  },
  {
   "cell_type": "code",
   "execution_count": 5,
   "id": "64014191-2201-499d-b14a-6b76ab9074ba",
   "metadata": {},
   "outputs": [
    {
     "data": {
      "text/plain": [
       "WordList(['I', 'like', 'to', 'read', 'about', 'new', 'facts', 'innovations', 'and', 'technology'])"
      ]
     },
     "execution_count": 5,
     "metadata": {},
     "output_type": "execute_result"
    }
   ],
   "source": [
    "tb.words"
   ]
  },
  {
   "cell_type": "code",
   "execution_count": 6,
   "id": "33965c3a-6625-430a-9a2b-3a4da53d097f",
   "metadata": {},
   "outputs": [
    {
     "data": {
      "text/plain": [
       "defaultdict(int,\n",
       "            {'i': 1,\n",
       "             'like': 1,\n",
       "             'to': 1,\n",
       "             'read': 1,\n",
       "             'about': 1,\n",
       "             'new': 1,\n",
       "             'facts': 1,\n",
       "             'innovations': 1,\n",
       "             'and': 1,\n",
       "             'technology': 1})"
      ]
     },
     "execution_count": 6,
     "metadata": {},
     "output_type": "execute_result"
    }
   ],
   "source": [
    "tb.word_counts"
   ]
  },
  {
   "cell_type": "code",
   "execution_count": 7,
   "id": "35ec9b4c-79ad-4a7e-8df4-e83ddc60cefb",
   "metadata": {},
   "outputs": [
    {
     "data": {
      "text/plain": [
       "WordList(['new facts'])"
      ]
     },
     "execution_count": 7,
     "metadata": {},
     "output_type": "execute_result"
    }
   ],
   "source": [
    "tb.noun_phrases"
   ]
  },
  {
   "cell_type": "code",
   "execution_count": 8,
   "id": "be83e638-d04a-4ef9-b116-563854bde204",
   "metadata": {},
   "outputs": [
    {
     "data": {
      "text/plain": [
       "defaultdict(int, {'new facts': 1})"
      ]
     },
     "execution_count": 8,
     "metadata": {},
     "output_type": "execute_result"
    }
   ],
   "source": [
    "tb.np_counts"
   ]
  },
  {
   "cell_type": "code",
   "execution_count": 9,
   "id": "df13868f-2a6e-49f5-b232-0c253d7a1e22",
   "metadata": {},
   "outputs": [
    {
     "name": "stdout",
     "output_type": "stream",
     "text": [
      "singualized word : fact\n",
      "pluralized word : likes\n"
     ]
    }
   ],
   "source": [
    "print(f'singualized word : {tb.words[6].singularize()}')\n",
    "print(f'pluralized word : {tb.words[1].pluralize()}')"
   ]
  },
  {
   "cell_type": "markdown",
   "id": "8b48ee28-2d12-4a22-840e-d64343abf1c4",
   "metadata": {},
   "source": [
    "#### Words Lemmatization and Integration"
   ]
  },
  {
   "cell_type": "code",
   "execution_count": 10,
   "id": "27c09ba1-991a-48f8-8bb6-ef25fc382519",
   "metadata": {},
   "outputs": [],
   "source": [
    "from textblob import Word\n",
    "from textblob.wordnet import VERB"
   ]
  },
  {
   "cell_type": "code",
   "execution_count": 11,
   "id": "21310ce9-f7e7-45bb-b727-019309c4e222",
   "metadata": {},
   "outputs": [
    {
     "data": {
      "text/plain": [
       "'octopus'"
      ]
     },
     "execution_count": 11,
     "metadata": {},
     "output_type": "execute_result"
    }
   ],
   "source": [
    "w = Word('octopi')\n",
    "w.lemmatize()"
   ]
  },
  {
   "cell_type": "code",
   "execution_count": 12,
   "id": "b3c770c5-9e9f-41b6-a31f-d4f7f7ce8d88",
   "metadata": {},
   "outputs": [
    {
     "data": {
      "text/plain": [
       "[Synset('octopus.n.01'), Synset('octopus.n.02')]"
      ]
     },
     "execution_count": 12,
     "metadata": {},
     "output_type": "execute_result"
    }
   ],
   "source": [
    "w.synsets "
   ]
  },
  {
   "cell_type": "code",
   "execution_count": 13,
   "id": "775d7cc4-168f-4a18-9cee-5ffd39845db1",
   "metadata": {},
   "outputs": [
    {
     "data": {
      "text/plain": [
       "[Synset('copy.v.01'),\n",
       " Synset('imitate.v.01'),\n",
       " Synset('replicate.v.02'),\n",
       " Synset('copy.v.04')]"
      ]
     },
     "execution_count": 13,
     "metadata": {},
     "output_type": "execute_result"
    }
   ],
   "source": [
    "Word('copy').get_synsets(pos=VERB)"
   ]
  },
  {
   "cell_type": "code",
   "execution_count": 14,
   "id": "3d4b3c66-06fa-4586-88f9-95ce2a792904",
   "metadata": {},
   "outputs": [
    {
     "data": {
      "text/plain": [
       "['a reproduction of a written record (e.g. of a legal or school record)',\n",
       " 'a thing made to be similar or identical to another thing',\n",
       " 'matter to be printed; exclusive of graphical materials',\n",
       " 'material suitable for a journalistic account',\n",
       " 'copy down as is',\n",
       " \"reproduce someone's behavior or looks\",\n",
       " 'reproduce or make an exact copy of',\n",
       " 'make a replica of']"
      ]
     },
     "execution_count": 14,
     "metadata": {},
     "output_type": "execute_result"
    }
   ],
   "source": [
    "Word('copy').definitions # returns list of definitions corresponds to synset"
   ]
  },
  {
   "cell_type": "code",
   "execution_count": 15,
   "id": "a7b62033-04f0-4a5a-9b81-7a81dcf50578",
   "metadata": {},
   "outputs": [
    {
     "name": "stdout",
     "output_type": "stream",
     "text": [
      "Synset('transcript.n.02')\n",
      "Synset('shrimp.n.03')\n",
      "similarity: 0.05263157894736842\n"
     ]
    }
   ],
   "source": [
    "# create synset\n",
    "from textblob.wordnet import Synset\n",
    "cp = Synset('copy.n.01')\n",
    "sh = Synset('shrimp.n.03')\n",
    "print(cp)\n",
    "print(sh)\n",
    "print(f'similarity: {cp.path_similarity(sh)}')"
   ]
  },
  {
   "cell_type": "code",
   "execution_count": 16,
   "id": "e620ef60-1b49-45fd-93ca-28cddcc17ea0",
   "metadata": {},
   "outputs": [
    {
     "data": {
      "text/plain": [
       "WordList(['I', 'like', 'to', 'read', 'about', 'new', 'facts', ',', 'innovations', 'and', 'technology', '.'])"
      ]
     },
     "execution_count": 16,
     "metadata": {},
     "output_type": "execute_result"
    }
   ],
   "source": [
    "tb.tokens"
   ]
  },
  {
   "cell_type": "code",
   "execution_count": 17,
   "id": "23c40401-ddbf-4599-92b6-66000727d947",
   "metadata": {},
   "outputs": [
    {
     "data": {
      "text/plain": [
       "['I/PRP/B-NP/O',\n",
       " 'like/IN/B-PP/B-PNP',\n",
       " 'to/TO/I-PP/I-PNP',\n",
       " 'read/VB/B-VP/O',\n",
       " 'about/IN/B-PP/B-PNP',\n",
       " 'new/JJ/B-NP/I-PNP',\n",
       " 'facts/NNS/I-NP/I-PNP',\n",
       " ',/,/O/O',\n",
       " 'innovations/NNS/B-NP/O',\n",
       " 'and/CC/I-NP/O',\n",
       " 'technology/NN/I-NP/O',\n",
       " '././O/O']"
      ]
     },
     "execution_count": 17,
     "metadata": {},
     "output_type": "execute_result"
    }
   ],
   "source": [
    "tb.parse().split(' ')"
   ]
  },
  {
   "cell_type": "code",
   "execution_count": 18,
   "id": "3eda9824-9013-48c4-9f45-1010138b95c0",
   "metadata": {},
   "outputs": [
    {
     "data": {
      "text/plain": [
       "Sentiment(polarity=0.13636363636363635, subjectivity=0.45454545454545453)"
      ]
     },
     "execution_count": 18,
     "metadata": {},
     "output_type": "execute_result"
    }
   ],
   "source": [
    "tb.sentiment"
   ]
  },
  {
   "cell_type": "markdown",
   "id": "284e67eb-8efb-4f9a-a633-59f5dae58225",
   "metadata": {},
   "source": [
    "#### textblob as python string"
   ]
  },
  {
   "cell_type": "code",
   "execution_count": 19,
   "id": "c98bc640-9842-4bb8-9dc6-6a254c4db9e5",
   "metadata": {},
   "outputs": [],
   "source": [
    "zen = TextBlob('If the implementation is hard to explain, it\\'s a bad idea.')"
   ]
  },
  {
   "cell_type": "code",
   "execution_count": 20,
   "id": "397d7f3b-d113-474a-8c15-9a04a8cd6f1d",
   "metadata": {},
   "outputs": [
    {
     "data": {
      "text/plain": [
       "TextBlob(\"the implemen\")"
      ]
     },
     "execution_count": 20,
     "metadata": {},
     "output_type": "execute_result"
    }
   ],
   "source": [
    "zen[3:15]"
   ]
  },
  {
   "cell_type": "code",
   "execution_count": 21,
   "id": "0ceb03a3-3e06-4bd2-9a72-9c5220b14688",
   "metadata": {},
   "outputs": [
    {
     "data": {
      "text/plain": [
       "TextBlob(\"IF THE IMPLEMENTATION IS HARD TO EXPLAIN, IT'S A BAD IDEA.\")"
      ]
     },
     "execution_count": 21,
     "metadata": {},
     "output_type": "execute_result"
    }
   ],
   "source": [
    "zen.upper()"
   ]
  },
  {
   "cell_type": "code",
   "execution_count": 22,
   "id": "e509200e-1d09-4eac-aa35-bf542eced15f",
   "metadata": {},
   "outputs": [
    {
     "data": {
      "text/plain": [
       "22"
      ]
     },
     "execution_count": 22,
     "metadata": {},
     "output_type": "execute_result"
    }
   ],
   "source": [
    "zen.find('is')"
   ]
  },
  {
   "cell_type": "code",
   "execution_count": 23,
   "id": "cd66f8ae-aa38-4167-a38e-35c94777aecd",
   "metadata": {},
   "outputs": [
    {
     "data": {
      "text/plain": [
       "False"
      ]
     },
     "execution_count": 23,
     "metadata": {},
     "output_type": "execute_result"
    }
   ],
   "source": [
    "# comparisons\n",
    "cherry = TextBlob('cherry')\n",
    "berry = TextBlob('berries')\n",
    "cherry < berry"
   ]
  },
  {
   "cell_type": "code",
   "execution_count": 24,
   "id": "2916cd21-c06f-4183-9928-4236ad860b98",
   "metadata": {},
   "outputs": [
    {
     "data": {
      "text/plain": [
       "'cherry and berries are very tasty'"
      ]
     },
     "execution_count": 24,
     "metadata": {},
     "output_type": "execute_result"
    }
   ],
   "source": [
    "'{0} and {1} are very tasty'.format(cherry, berry)"
   ]
  },
  {
   "cell_type": "code",
   "execution_count": 26,
   "id": "2f83c893-af66-4f26-a73c-99e3e57c80fd",
   "metadata": {},
   "outputs": [
    {
     "name": "stdout",
     "output_type": "stream",
     "text": [
      "index: [(Sentence(\"A machine is a physical system.\"), 0, 31), (Sentence(\"That uses power to apply forces and control movement.\"), 32, 85), (Sentence(\"The term is commonly applied to artificial devices.\"), 86, 137), (Sentence(\"such as those employing engines or motors, but also to natural biological macromolecules, such as molecular machines.\"), 138, 255)]\n"
     ]
    }
   ],
   "source": [
    "wiki_machine = TextBlob('A machine is a physical system. That uses power to apply forces and control movement. The term is commonly applied to artificial devices. such as those employing engines or motors, but also to natural biological macromolecules, such as molecular machines.')\n",
    "print(f'index: {[(s, s.start, s.end) for s in wiki_machine.sentences]}')"
   ]
  },
  {
   "cell_type": "markdown",
   "id": "c5835c96-961e-4447-941d-00199d24dc41",
   "metadata": {},
   "source": [
    "#### n-grams"
   ]
  },
  {
   "cell_type": "code",
   "execution_count": 28,
   "id": "d78f1fea-8ca8-456e-8570-9b80ec18a53c",
   "metadata": {},
   "outputs": [
    {
     "data": {
      "text/plain": [
       "[WordList(['I', 'like', 'to', 'read']),\n",
       " WordList(['like', 'to', 'read', 'about']),\n",
       " WordList(['to', 'read', 'about', 'new']),\n",
       " WordList(['read', 'about', 'new', 'facts']),\n",
       " WordList(['about', 'new', 'facts', 'innovations']),\n",
       " WordList(['new', 'facts', 'innovations', 'and']),\n",
       " WordList(['facts', 'innovations', 'and', 'technology'])]"
      ]
     },
     "execution_count": 28,
     "metadata": {},
     "output_type": "execute_result"
    }
   ],
   "source": [
    "tb.ngrams(n = 4)"
   ]
  },
  {
   "cell_type": "markdown",
   "id": "888bf18a-b850-409c-b34e-cbc911e2bfb3",
   "metadata": {},
   "source": [
    "#### spell correction"
   ]
  },
  {
   "cell_type": "code",
   "execution_count": 29,
   "id": "c7a72e09-bb7e-4e06-850e-99a3d43353cd",
   "metadata": {},
   "outputs": [
    {
     "data": {
      "text/plain": [
       "TextBlob(\"you have those beautiful things.\")"
      ]
     },
     "execution_count": 29,
     "metadata": {},
     "output_type": "execute_result"
    }
   ],
   "source": [
    "check = TextBlob('yiu haie thoes beauitfll things.')\n",
    "check.correct()"
   ]
  },
  {
   "cell_type": "code",
   "execution_count": 33,
   "id": "5c85ab9d-d447-4124-82e3-5eefa0f72323",
   "metadata": {},
   "outputs": [
    {
     "data": {
      "text/plain": [
       "[('personal', 0.65),\n",
       " ('personally', 0.2642857142857143),\n",
       " ('peroneal', 0.06428571428571428),\n",
       " ('personnel', 0.014285714285714285),\n",
       " ('personen', 0.007142857142857143)]"
      ]
     },
     "execution_count": 33,
     "metadata": {},
     "output_type": "execute_result"
    }
   ],
   "source": [
    "w = Word('personell')\n",
    "w.spellcheck()"
   ]
  }
 ],
 "metadata": {
  "kernelspec": {
   "display_name": "Python 3 (ipykernel)",
   "language": "python",
   "name": "python3"
  },
  "language_info": {
   "codemirror_mode": {
    "name": "ipython",
    "version": 3
   },
   "file_extension": ".py",
   "mimetype": "text/x-python",
   "name": "python",
   "nbconvert_exporter": "python",
   "pygments_lexer": "ipython3",
   "version": "3.11.7"
  }
 },
 "nbformat": 4,
 "nbformat_minor": 5
}
