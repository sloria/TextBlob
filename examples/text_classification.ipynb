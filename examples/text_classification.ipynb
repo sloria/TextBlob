{
 "cells": [
  {
   "cell_type": "markdown",
   "id": "3a0bf4c9-f35b-458c-b005-3160cb32b82c",
   "metadata": {},
   "source": [
    "## Text Classification\n",
    "- Create a custom classifier with textblob"
   ]
  },
  {
   "cell_type": "code",
   "execution_count": 1,
   "id": "5b9090de-ebec-42e8-9d26-df6d18147bb4",
   "metadata": {},
   "outputs": [],
   "source": [
    "!pip install pandas pyarrow -q"
   ]
  },
  {
   "cell_type": "code",
   "execution_count": 2,
   "id": "906d64ba-9ac0-4171-af7e-9cf5dbad8887",
   "metadata": {},
   "outputs": [
    {
     "data": {
      "text/html": [
       "<div>\n",
       "<style scoped>\n",
       "    .dataframe tbody tr th:only-of-type {\n",
       "        vertical-align: middle;\n",
       "    }\n",
       "\n",
       "    .dataframe tbody tr th {\n",
       "        vertical-align: top;\n",
       "    }\n",
       "\n",
       "    .dataframe thead th {\n",
       "        text-align: right;\n",
       "    }\n",
       "</style>\n",
       "<table border=\"1\" class=\"dataframe\">\n",
       "  <thead>\n",
       "    <tr style=\"text-align: right;\">\n",
       "      <th></th>\n",
       "      <th>text</th>\n",
       "      <th>labels</th>\n",
       "    </tr>\n",
       "  </thead>\n",
       "  <tbody>\n",
       "    <tr>\n",
       "      <th>0</th>\n",
       "      <td>Finnish airline Finnair is starting the tempor...</td>\n",
       "      <td>0</td>\n",
       "    </tr>\n",
       "    <tr>\n",
       "      <th>1</th>\n",
       "      <td>The corresponding increase in the share capita...</td>\n",
       "      <td>1</td>\n",
       "    </tr>\n",
       "    <tr>\n",
       "      <th>2</th>\n",
       "      <td>In the third quarter of fiscal 2008 Efore swun...</td>\n",
       "      <td>0</td>\n",
       "    </tr>\n",
       "    <tr>\n",
       "      <th>3</th>\n",
       "      <td>ALEXANDRIA , Va. , Oct. 15 -- Aaron Moss of Ha...</td>\n",
       "      <td>1</td>\n",
       "    </tr>\n",
       "    <tr>\n",
       "      <th>4</th>\n",
       "      <td>Vaisala Oyj Stock exchange release 26.03.2010 ...</td>\n",
       "      <td>1</td>\n",
       "    </tr>\n",
       "  </tbody>\n",
       "</table>\n",
       "</div>"
      ],
      "text/plain": [
       "                                                text  labels\n",
       "0  Finnish airline Finnair is starting the tempor...       0\n",
       "1  The corresponding increase in the share capita...       1\n",
       "2  In the third quarter of fiscal 2008 Efore swun...       0\n",
       "3  ALEXANDRIA , Va. , Oct. 15 -- Aaron Moss of Ha...       1\n",
       "4  Vaisala Oyj Stock exchange release 26.03.2010 ...       1"
      ]
     },
     "execution_count": 2,
     "metadata": {},
     "output_type": "execute_result"
    }
   ],
   "source": [
    "import pandas as pd\n",
    "# dataset\n",
    "# hf: https://huggingface.co/datasets/nickmuchi/financial-classification\n",
    "df = pd.read_parquet('financial_classification.parquet', columns=['text', 'labels'])\n",
    "df.head(5)"
   ]
  },
  {
   "cell_type": "code",
   "execution_count": 3,
   "id": "1b384b21-b4a4-4e8c-9d23-b7e3a5bf3001",
   "metadata": {},
   "outputs": [
    {
     "name": "stdout",
     "output_type": "stream",
     "text": [
      "<class 'pandas.core.frame.DataFrame'>\n",
      "RangeIndex: 4551 entries, 0 to 4550\n",
      "Data columns (total 2 columns):\n",
      " #   Column  Non-Null Count  Dtype \n",
      "---  ------  --------------  ----- \n",
      " 0   text    4551 non-null   object\n",
      " 1   labels  4551 non-null   int64 \n",
      "dtypes: int64(1), object(1)\n",
      "memory usage: 71.2+ KB\n"
     ]
    }
   ],
   "source": [
    "df.info()"
   ]
  },
  {
   "cell_type": "code",
   "execution_count": 4,
   "id": "8f6543f7-7a8a-443c-9fa3-a834c9d4ff60",
   "metadata": {},
   "outputs": [],
   "source": [
    "import string\n",
    "df['text'] = df['text'].apply(lambda x:''.join([i for i in x if i not in string.punctuation])) # remove punctuation"
   ]
  },
  {
   "cell_type": "code",
   "execution_count": 5,
   "id": "4c463f04-59da-474a-99bd-f31366932557",
   "metadata": {},
   "outputs": [],
   "source": [
    "df = df[['text','labels']]"
   ]
  },
  {
   "cell_type": "code",
   "execution_count": 6,
   "id": "37820761-4913-408c-ab03-222912a23d3e",
   "metadata": {},
   "outputs": [
    {
     "data": {
      "text/html": [
       "<div>\n",
       "<style scoped>\n",
       "    .dataframe tbody tr th:only-of-type {\n",
       "        vertical-align: middle;\n",
       "    }\n",
       "\n",
       "    .dataframe tbody tr th {\n",
       "        vertical-align: top;\n",
       "    }\n",
       "\n",
       "    .dataframe thead th {\n",
       "        text-align: right;\n",
       "    }\n",
       "</style>\n",
       "<table border=\"1\" class=\"dataframe\">\n",
       "  <thead>\n",
       "    <tr style=\"text-align: right;\">\n",
       "      <th></th>\n",
       "      <th>text</th>\n",
       "      <th>labels</th>\n",
       "    </tr>\n",
       "  </thead>\n",
       "  <tbody>\n",
       "    <tr>\n",
       "      <th>0</th>\n",
       "      <td>Finnish airline Finnair is starting the tempor...</td>\n",
       "      <td>0</td>\n",
       "    </tr>\n",
       "    <tr>\n",
       "      <th>1</th>\n",
       "      <td>The corresponding increase in the share capita...</td>\n",
       "      <td>1</td>\n",
       "    </tr>\n",
       "    <tr>\n",
       "      <th>2</th>\n",
       "      <td>In the third quarter of fiscal 2008 Efore swun...</td>\n",
       "      <td>0</td>\n",
       "    </tr>\n",
       "    <tr>\n",
       "      <th>3</th>\n",
       "      <td>ALEXANDRIA  Va  Oct 15  Aaron Moss of Hampshir...</td>\n",
       "      <td>1</td>\n",
       "    </tr>\n",
       "    <tr>\n",
       "      <th>4</th>\n",
       "      <td>Vaisala Oyj Stock exchange release 26032010 kl...</td>\n",
       "      <td>1</td>\n",
       "    </tr>\n",
       "  </tbody>\n",
       "</table>\n",
       "</div>"
      ],
      "text/plain": [
       "                                                text  labels\n",
       "0  Finnish airline Finnair is starting the tempor...       0\n",
       "1  The corresponding increase in the share capita...       1\n",
       "2  In the third quarter of fiscal 2008 Efore swun...       0\n",
       "3  ALEXANDRIA  Va  Oct 15  Aaron Moss of Hampshir...       1\n",
       "4  Vaisala Oyj Stock exchange release 26032010 kl...       1"
      ]
     },
     "execution_count": 6,
     "metadata": {},
     "output_type": "execute_result"
    }
   ],
   "source": [
    "df[:5]"
   ]
  },
  {
   "cell_type": "code",
   "execution_count": 7,
   "id": "15826a5f-bbab-46fb-9405-8981f35ff28f",
   "metadata": {},
   "outputs": [
    {
     "name": "stdout",
     "output_type": "stream",
     "text": [
      "train: (3640, 2)\n",
      "test:  (911, 2)\n"
     ]
    }
   ],
   "source": [
    "# Shuffle dataframe\n",
    "df = df.sample(frac=1)\n",
    "ratio = 0.80\n",
    " \n",
    "total_rows = df.shape[0]\n",
    "train_size = int(total_rows*ratio)\n",
    " \n",
    "# Split data into test and train\n",
    "train = df[0:train_size]\n",
    "test = df[train_size:]\n",
    "\n",
    "print('train:', train.shape)\n",
    "print('test: ', test.shape)"
   ]
  },
  {
   "cell_type": "code",
   "execution_count": 8,
   "id": "1c2eca64-d37c-4f54-96db-b242d20f4668",
   "metadata": {},
   "outputs": [
    {
     "name": "stdout",
     "output_type": "stream",
     "text": [
      "<class 'pandas.core.frame.DataFrame'>\n",
      "Index: 3640 entries, 1001 to 1357\n",
      "Data columns (total 2 columns):\n",
      " #   Column  Non-Null Count  Dtype \n",
      "---  ------  --------------  ----- \n",
      " 0   text    3640 non-null   object\n",
      " 1   labels  3640 non-null   int64 \n",
      "dtypes: int64(1), object(1)\n",
      "memory usage: 85.3+ KB\n"
     ]
    }
   ],
   "source": [
    "train.info()"
   ]
  },
  {
   "cell_type": "code",
   "execution_count": 10,
   "id": "f4888e4b-22a6-48c4-8198-31fb195f6db4",
   "metadata": {},
   "outputs": [
    {
     "data": {
      "text/plain": [
       "1001    According to the notification  the holdings of...\n",
       "2607    Mr Mikko Saavalainen  head of Comptel s Global...\n",
       "2248    Sponda Plc s Annual General Meeting decided on...\n",
       "4536    Okmetic s products are based on hightech exper...\n",
       "3582    Finland s leading metals group Outokumpu said ...\n",
       "Name: text, dtype: object"
      ]
     },
     "execution_count": 10,
     "metadata": {},
     "output_type": "execute_result"
    }
   ],
   "source": [
    "train['text'][:5]"
   ]
  },
  {
   "cell_type": "code",
   "execution_count": 12,
   "id": "9b42321d-d9da-4bf4-81c1-9a7ba55f8da3",
   "metadata": {},
   "outputs": [
    {
     "data": {
      "text/plain": [
       "[('According to the notification  the holdings of Ameriprice Inc and its group companies are now in total 808973 shares  which represent 3582  of Tekla \\x93 s shares and voting rights ',\n",
       "  1),\n",
       " ('Mr Mikko Saavalainen  head of Comptel s Global Sales concludes   Gibtelecom provides a perfect illustration of the variety of business  technical and regulatory challenges operators are facing in their OSS today ',\n",
       "  1),\n",
       " ('Sponda Plc s Annual General Meeting decided on 23 March 2005 to establish a Shareholders  Nomination Committee to prepare proposals for the Annual General Meeting in 2006 on the composition of the Board of Directors and their remuneration ',\n",
       "  1)]"
      ]
     },
     "execution_count": 12,
     "metadata": {},
     "output_type": "execute_result"
    }
   ],
   "source": [
    "# formatting data  \n",
    "# fitting to textblob classifier\n",
    "data_to_train = [(row['text'], row['labels']) for i, row in train.iterrows()]\n",
    "data_to_train[:3]"
   ]
  },
  {
   "cell_type": "code",
   "execution_count": 13,
   "id": "6ee9dea0-3908-4044-871d-aa4a8032e299",
   "metadata": {},
   "outputs": [],
   "source": [
    "from textblob.classifiers import NaiveBayesClassifier"
   ]
  },
  {
   "cell_type": "code",
   "execution_count": 14,
   "id": "6f4d841a-94a1-4e31-8a03-c069de67c69c",
   "metadata": {},
   "outputs": [],
   "source": [
    "fin_cl = NaiveBayesClassifier(data_to_train)"
   ]
  },
  {
   "cell_type": "code",
   "execution_count": 15,
   "id": "61aadbd3-cfa2-4e82-a085-fad0760e1a1a",
   "metadata": {},
   "outputs": [
    {
     "data": {
      "text/plain": [
       "1"
      ]
     },
     "execution_count": 15,
     "metadata": {},
     "output_type": "execute_result"
    }
   ],
   "source": [
    "fin_cl.classify('At present , the trade mark Pit-Produkt is little-known outside the North-West of Russia .')"
   ]
  },
  {
   "cell_type": "code",
   "execution_count": 16,
   "id": "08d79de0-4914-4da4-95c1-5e3293d07a67",
   "metadata": {},
   "outputs": [
    {
     "data": {
      "text/plain": [
       "2"
      ]
     },
     "execution_count": 16,
     "metadata": {},
     "output_type": "execute_result"
    }
   ],
   "source": [
    "fin_cl.classify('Operating profit of the Asian plants grew markedly .')"
   ]
  },
  {
   "cell_type": "code",
   "execution_count": 17,
   "id": "9b178acd-b76e-467a-a416-183fad5ae065",
   "metadata": {},
   "outputs": [
    {
     "data": {
      "text/plain": [
       "[1, 2, 0]"
      ]
     },
     "execution_count": 17,
     "metadata": {},
     "output_type": "execute_result"
    }
   ],
   "source": [
    "# list out labels\n",
    "fin_cl.labels()"
   ]
  },
  {
   "cell_type": "code",
   "execution_count": 19,
   "id": "1e584305-f302-4330-a5ab-74ea8cd4705c",
   "metadata": {},
   "outputs": [
    {
     "data": {
      "text/plain": [
       "[('The total value of the agreement is USD4 0 m  the company said ', 1),\n",
       " ('The effect of the savings will be noticeable as of the beginning of 2010 ',\n",
       "  2),\n",
       " ('One of the opportunities would be to bring all Baltic meat processing to Rakvere  like processing was concentrated at the Vantaa meatpacking unit in Finland  the paper wrote ',\n",
       "  1)]"
      ]
     },
     "execution_count": 19,
     "metadata": {},
     "output_type": "execute_result"
    }
   ],
   "source": [
    "# test data\n",
    "data_to_test = [(row['text'], row['labels']) for i, row in test.iterrows()]\n",
    "data_to_test[:3]"
   ]
  },
  {
   "cell_type": "code",
   "execution_count": 20,
   "id": "b2ca7331-6913-41e8-b2dc-21d7add429e7",
   "metadata": {},
   "outputs": [
    {
     "data": {
      "text/plain": [
       "<ProbDist with 3 samples>"
      ]
     },
     "execution_count": 20,
     "metadata": {},
     "output_type": "execute_result"
    }
   ],
   "source": [
    "# check probabilty distribution\n",
    "prob_fin = fin_cl.prob_classify([t for (t,l) in data_to_test])\n",
    "prob_fin"
   ]
  },
  {
   "cell_type": "code",
   "execution_count": 21,
   "id": "699ef434-3539-4982-bbf5-bfb05991372e",
   "metadata": {},
   "outputs": [
    {
     "data": {
      "text/plain": [
       "1"
      ]
     },
     "execution_count": 21,
     "metadata": {},
     "output_type": "execute_result"
    }
   ],
   "source": [
    "prob_fin.max()"
   ]
  },
  {
   "cell_type": "code",
   "execution_count": 22,
   "id": "a94e71ec-52a5-43bc-b33a-a42000681aab",
   "metadata": {},
   "outputs": [
    {
     "data": {
      "text/plain": [
       "-1e+300"
      ]
     },
     "execution_count": 22,
     "metadata": {},
     "output_type": "execute_result"
    }
   ],
   "source": [
    "round(prob_fin.logprob('no compensation for its news opinions or distributions'), 4)"
   ]
  },
  {
   "cell_type": "code",
   "execution_count": 23,
   "id": "7ad073be-2fc8-48fd-864b-502a0f4bf0f5",
   "metadata": {},
   "outputs": [
    {
     "data": {
      "text/plain": [
       "0.7058177826564215"
      ]
     },
     "execution_count": 23,
     "metadata": {},
     "output_type": "execute_result"
    }
   ],
   "source": [
    "fin_cl.accuracy(data_to_test)"
   ]
  },
  {
   "cell_type": "code",
   "execution_count": 24,
   "id": "d1e88938-a74d-4058-bab9-90d917511cb1",
   "metadata": {},
   "outputs": [
    {
     "name": "stdout",
     "output_type": "stream",
     "text": [
      "Most Informative Features\n",
      "          contains(down) = True                0 : 2      =     82.5 : 1.0\n",
      "          contains(fell) = True                0 : 2      =     46.0 : 1.0\n",
      "     contains(decreased) = True                0 : 1      =     43.8 : 1.0\n",
      "           contains(won) = True                2 : 1      =     36.5 : 1.0\n",
      "          contains(rose) = True                2 : 1      =     31.9 : 1.0\n",
      "          contains(fall) = True                0 : 1      =     31.7 : 1.0\n",
      "   contains(temporarily) = True                0 : 1      =     31.7 : 1.0\n",
      "      contains(compared) = True                0 : 1      =     30.5 : 1.0\n",
      "          contains(grew) = True                2 : 1      =     29.6 : 1.0\n",
      "       contains(dropped) = True                0 : 1      =     28.7 : 1.0\n"
     ]
    }
   ],
   "source": [
    "# features info\n",
    "fin_cl.show_informative_features()"
   ]
  },
  {
   "cell_type": "markdown",
   "id": "46ffe87a-af8e-4799-add7-b15237e5c4be",
   "metadata": {},
   "source": [
    "#### Use trained classifier in textblob"
   ]
  },
  {
   "cell_type": "code",
   "execution_count": 25,
   "id": "4da01cfa-3cca-444d-b74f-e3284c997709",
   "metadata": {},
   "outputs": [
    {
     "data": {
      "text/plain": [
       "1"
      ]
     },
     "execution_count": 25,
     "metadata": {},
     "output_type": "execute_result"
    }
   ],
   "source": [
    "from textblob import TextBlob\n",
    "sample_text = TextBlob('After the transaction 30.65 % of the shares of Alpha farmacy goes to 31.12 % .', classifier=fin_cl)\n",
    "sample_text.classify()"
   ]
  },
  {
   "cell_type": "code",
   "execution_count": 31,
   "id": "f17e390c-1d40-4650-8cb8-9e208dff4a9d",
   "metadata": {},
   "outputs": [
    {
     "data": {
      "text/plain": [
       "1"
      ]
     },
     "execution_count": 31,
     "metadata": {},
     "output_type": "execute_result"
    }
   ],
   "source": [
    "sample_text2 = TextBlob('The validation of the savings will be noted by the mid july', classifier=fin_cl)\n",
    "sample_text2.classify()"
   ]
  },
  {
   "cell_type": "code",
   "execution_count": 29,
   "id": "180c92cd-2c92-462c-b123-982660bd3a8b",
   "metadata": {
    "scrolled": true
   },
   "outputs": [
    {
     "data": {
      "text/plain": [
       "[('contains(reference)', False),\n",
       " ('contains(validation)', False),\n",
       " ('contains(midJuly)', False),\n",
       " ('contains(seventh)', False)]"
      ]
     },
     "execution_count": 29,
     "metadata": {},
     "output_type": "execute_result"
    }
   ],
   "source": [
    "extracted = fin_cl.extract_features(sample_text)\n",
    "list(extracted.items())[:4]"
   ]
  }
 ],
 "metadata": {
  "kernelspec": {
   "display_name": "Python 3 (ipykernel)",
   "language": "python",
   "name": "python3"
  },
  "language_info": {
   "codemirror_mode": {
    "name": "ipython",
    "version": 3
   },
   "file_extension": ".py",
   "mimetype": "text/x-python",
   "name": "python",
   "nbconvert_exporter": "python",
   "pygments_lexer": "ipython3",
   "version": "3.11.7"
  }
 },
 "nbformat": 4,
 "nbformat_minor": 5
}
